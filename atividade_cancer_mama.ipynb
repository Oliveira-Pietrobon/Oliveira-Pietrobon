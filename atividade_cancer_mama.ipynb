{
  "nbformat": 4,
  "nbformat_minor": 0,
  "metadata": {
    "colab": {
      "provenance": [],
      "mount_file_id": "1x00u-MgRQbSBHtfPa8frO2XEPrxMl-9T",
      "authorship_tag": "ABX9TyMXZUjx0CuRaJp3Sj2pmyKC",
      "include_colab_link": true
    },
    "kernelspec": {
      "name": "python3",
      "display_name": "Python 3"
    },
    "language_info": {
      "name": "python"
    }
  },
  "cells": [
    {
      "cell_type": "markdown",
      "metadata": {
        "id": "view-in-github",
        "colab_type": "text"
      },
      "source": [
        "<a href=\"https://colab.research.google.com/github/Oliveira-Pietrobon/Oliveira-Pietrobon/blob/main/atividade_cancer_mama.ipynb\" target=\"_parent\"><img src=\"https://colab.research.google.com/assets/colab-badge.svg\" alt=\"Open In Colab\"/></a>"
      ]
    },
    {
      "cell_type": "code",
      "source": [],
      "metadata": {
        "id": "p1gTyP6d51dY"
      },
      "execution_count": null,
      "outputs": []
    },
    {
      "cell_type": "code",
      "execution_count": 11,
      "metadata": {
        "colab": {
          "base_uri": "https://localhost:8080/"
        },
        "collapsed": true,
        "id": "w8qmQwFp3mAN",
        "outputId": "6dd03647-af5f-4681-fb45-90269a1fa8d6"
      },
      "outputs": [
        {
          "output_type": "stream",
          "name": "stdout",
          "text": [
            "Número de pixels brancos: 0\n",
            "Número de pixels preto: 0\n",
            "Percentual pixels brancos: nan\n",
            "Imagem sem câncer\n"
          ]
        },
        {
          "output_type": "stream",
          "name": "stderr",
          "text": [
            "<ipython-input-11-c4a90759a6fd>:10: RuntimeWarning: invalid value encountered in scalar divide\n",
            "  percentual_pixels_brancos = numero_pixels_branco / (numero_pixels_branco + numero_pixels_preto) * 100\n"
          ]
        }
      ],
      "source": [
        "import cv2\n",
        "import numpy as np\n",
        "img = cv2.imread(\"mama_contorno\")\n",
        "# cv2.imshow('Image', img)\n",
        "numero_pixels_branco = np.sum(img == 255)\n",
        "numero_pixels_preto = np.sum(img ==0)\n",
        "print('Número de pixels brancos:', numero_pixels_branco)\n",
        "print('Número de pixels preto:', numero_pixels_preto)\n",
        "#Calcula a média de pixels brancos\n",
        "percentual_pixels_brancos = numero_pixels_branco / (numero_pixels_branco + numero_pixels_preto) * 100\n",
        "print('Percentual pixels brancos:', percentual_pixels_brancos)\n",
        "if (percentual_pixels_brancos >= 30):\n",
        "  print('Imagem com câncer')\n",
        "else:\n",
        "    print('Imagem sem câncer')\n",
        "\n"
      ]
    },
    {
      "cell_type": "code",
      "source": [
        "from PIL import Image, ImageDraw, ImageEnhance\n",
        "from skimage import measure\n",
        "#Abrir a imagem\n",
        "imagem = Image.open('/mama_contorno1.jpg')\n",
        "#COnverter a imagem em escala de cinza\n",
        "imagem_cinza = imagem.convert('L')\n",
        "#Converter a iamgem em uma matriz numpy\n",
        "matriz_imagem = np.array(imagem_cinza)\n",
        "#Detectar os contornos\n",
        "contornos = measure.find_contours(matriz_imagem, 0.8)\n",
        "#Desenhar os contornos na imagem original\n",
        "desenhar = ImageDraw.Draw(imagem)\n",
        "for contorno in contornos:\n",
        "  for i in range(len(contorno) - 1):\n",
        "    desenhar.line((contorno[i][1], contorno[i][0], contorno[i+1][1], contorno[i+1][0]), fill='red', width=2)\n",
        "    #Aumentar o contraste\n",
        "    realcar = ImageEnhance.Contrast(imagem)\n",
        "    imagem = realcar.enhance(15.5)\n",
        "    #Mostrar a imagem com os contornos\n",
        "    imagem.save('mama_contorno.jpg')"
      ],
      "metadata": {
        "id": "kYmj6uMBJKuE"
      },
      "execution_count": 35,
      "outputs": []
    }
  ]
}