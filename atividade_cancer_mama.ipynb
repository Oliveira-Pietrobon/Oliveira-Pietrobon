{
  "nbformat": 4,
  "nbformat_minor": 0,
  "metadata": {
    "colab": {
      "provenance": [],
      "toc_visible": true,
      "mount_file_id": "1x00u-MgRQbSBHtfPa8frO2XEPrxMl-9T",
      "authorship_tag": "ABX9TyN5rCRvNAjwQqaGYW+2qwP8",
      "include_colab_link": true
    },
    "kernelspec": {
      "name": "python3",
      "display_name": "Python 3"
    },
    "language_info": {
      "name": "python"
    }
  },
  "cells": [
    {
      "cell_type": "markdown",
      "metadata": {
        "id": "view-in-github",
        "colab_type": "text"
      },
      "source": [
        "<a href=\"https://colab.research.google.com/github/Oliveira-Pietrobon/Oliveira-Pietrobon/blob/main/atividade_cancer_mama.ipynb\" target=\"_parent\"><img src=\"https://colab.research.google.com/assets/colab-badge.svg\" alt=\"Open In Colab\"/></a>"
      ]
    },
    {
      "cell_type": "code",
      "source": [],
      "metadata": {
        "id": "p1gTyP6d51dY"
      },
      "execution_count": null,
      "outputs": []
    },
    {
      "cell_type": "code",
      "execution_count": 37,
      "metadata": {
        "colab": {
          "base_uri": "https://localhost:8080/"
        },
        "collapsed": true,
        "id": "w8qmQwFp3mAN",
        "outputId": "053e9640-f685-433b-a9b3-19fdc7bea3e5"
      },
      "outputs": [
        {
          "output_type": "stream",
          "name": "stdout",
          "text": [
            "Número de pixels brancos: 438852\n",
            "Número de pixels preto: 738910\n",
            "Percentual pixels brancos: 37.26151803165665\n",
            "Imagem com câncer\n"
          ]
        }
      ],
      "source": [
        "import cv2\n",
        "import numpy as np\n",
        "img = cv2.imread(\"mama_contorno.jpg\")\n",
        "# cv2.imshow('Image', img)\n",
        "numero_pixels_branco = np.sum(img == 255)\n",
        "numero_pixels_preto = np.sum(img ==0)\n",
        "print('Número de pixels brancos:', numero_pixels_branco)\n",
        "print('Número de pixels preto:', numero_pixels_preto)\n",
        "#Calcula a média de pixels brancos\n",
        "percentual_pixels_brancos = numero_pixels_branco / (numero_pixels_branco + numero_pixels_preto) * 100\n",
        "print('Percentual pixels brancos:', percentual_pixels_brancos)\n",
        "if (percentual_pixels_brancos >= 30):\n",
        "  print('Imagem com câncer')\n",
        "else:\n",
        "    print('Imagem sem câncer')\n",
        "\n"
      ]
    },
    {
      "cell_type": "code",
      "source": [
        "import cv2\n",
        "import numpy as np\n",
        "\n",
        "# Carrega a imagem\n",
        "imagem = cv2.imread('mama_contorno.jpg')\n",
        "\n",
        "if imagem is None:\n",
        "  print('Imagem não carregada. Verifique o caminho do arquivo.')\n",
        "else:\n",
        "  # Separa os canais de cor\n",
        "  azul, verde, vermelho = cv2.split(imagem)\n",
        "\n",
        "  # Cria uma imagem preta\n",
        "  black = np.zeros(imagem.shape[:2], dtype='uint8')\n",
        "\n",
        "  # Mescla os canais com a imagem preta para visualizar canais individuais\n",
        "  canal_azul = cv2.merge([azul, black, black])\n",
        "  canal_verde = cv2.merge([black, verde, black])\n",
        "  canal_vermelho = cv2.merge([black, black, vermelho])\n",
        "\n",
        "  # Salva as imagens\n",
        "  cv2.imwrite('Azul.jpg', canal_azul)\n",
        "  cv2.imwrite('Verde.jpg', canal_verde)\n",
        "  cv2.imwrite('Vermelho.jpg', canal_vermelho)"
      ],
      "metadata": {
        "id": "LphcDEQ0UgLT"
      },
      "execution_count": 44,
      "outputs": []
    },
    {
      "cell_type": "code",
      "source": [
        "import cv2\n",
        "\n",
        "# Carrega a imagem\n",
        "imagem = cv2.imread('mama_contorno.jpg', cv2.IMREAD_GRAYSCALE)\n",
        "\n",
        "if imagem is None:\n",
        "  print('Imagem não carregada. Verifique o caminho do arquivo.')\n",
        "else:\n",
        "  # Aplica CLAHE (Equalização de Histograma Adaptativo Limitado por Contraste)\n",
        "  clahe = cv2.createCLAHE(clipLimit=2.0, tileGridSize=(8,8))\n",
        "  imagem_contraste = clahe.apply(imagem)\n",
        "\n",
        "  # Salva a imagem\n",
        "  cv2.imwrite('mama_contraste.jpg', imagem_contraste)"
      ],
      "metadata": {
        "id": "M2I1yzeBdLeZ"
      },
      "execution_count": 43,
      "outputs": []
    },
    {
      "cell_type": "code",
      "source": [
        "from PIL import Image, ImageDraw, ImageEnhance\n",
        "from skimage import measure\n",
        "#Abrir a imagem\n",
        "imagem = Image.open('/mama_contorno1.jpg')\n",
        "#COnverter a imagem em escala de cinza\n",
        "imagem_cinza = imagem.convert('L')\n",
        "#Converter a iamgem em uma matriz numpy\n",
        "matriz_imagem = np.array(imagem_cinza)\n",
        "#Detectar os contornos\n",
        "contornos = measure.find_contours(matriz_imagem, 0.8)\n",
        "#Desenhar os contornos na imagem original\n",
        "desenhar = ImageDraw.Draw(imagem)\n",
        "for contorno in contornos:\n",
        "  for i in range(len(contorno) - 1):\n",
        "    desenhar.line((contorno[i][1], contorno[i][0], contorno[i+1][1], contorno[i+1][0]), fill='red', width=2)\n",
        "    #Aumentar o contraste\n",
        "    realcar = ImageEnhance.Contrast(imagem)\n",
        "    imagem = realcar.enhance(15.5)\n",
        "    #Mostrar a imagem com os contornos\n",
        "    imagem.save('mama_contorno.jpg')"
      ],
      "metadata": {
        "id": "kYmj6uMBJKuE"
      },
      "execution_count": 46,
      "outputs": []
    }
  ]
}